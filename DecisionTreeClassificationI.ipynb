{
 "cells": [
  {
   "cell_type": "code",
   "execution_count": 1,
   "id": "3f770509",
   "metadata": {},
   "outputs": [
    {
     "name": "stderr",
     "output_type": "stream",
     "text": [
      "UsageError: unrecognized arguments: #for encoding\n"
     ]
    }
   ],
   "source": [
    "import pandas as pd\n",
    "\n",
    "import numpy as np\n",
    "\n",
    "import seaborn as sns\n",
    "\n",
    "import matplotlib.pyplot as plt\n",
    "\n",
    "%matplotlib inline #for encoding\n",
    "\n",
    "from sklearn.preprocessing import LabelEncoder #for train test splitting\n",
    "\n",
    "from sklearn.model_selection import train_test_split #for decision tree object\n",
    "\n",
    "from sklearn.tree import DecisionTreeClassifier #for checking /testing results\n",
    "\n",
    "from sklearn.metrics import classification_report,confusion_matrix #for visualizing tree\n",
    "\n",
    "from sklearn.tree import plot_tree"
   ]
  },
  {
   "cell_type": "code",
   "execution_count": null,
   "id": "544a7d95",
   "metadata": {},
   "outputs": [],
   "source": [
    "#Reading the data\n",
    "df = sns.load_dataset('iris')\n",
    "df\n",
    "#Question - based on the available variables find/indicate the species"
   ]
  },
  {
   "cell_type": "code",
   "execution_count": null,
   "id": "f7afe55d",
   "metadata": {},
   "outputs": [],
   "source": [
    "df.info()"
   ]
  },
  {
   "cell_type": "code",
   "execution_count": null,
   "id": "6483a361",
   "metadata": {},
   "outputs": [],
   "source": [
    "df.shape"
   ]
  },
  {
   "cell_type": "code",
   "execution_count": null,
   "id": "501ba978",
   "metadata": {},
   "outputs": [],
   "source": [
    "df.isnull().sum() #or df.isnull().any()"
   ]
  },
  {
   "cell_type": "code",
   "execution_count": null,
   "id": "5289ecb7",
   "metadata": {},
   "outputs": [],
   "source": [
    "#plot pairplot to visualize the attributes all at once\n",
    "sns.pairplot(data = df, hue = 'species')"
   ]
  },
  {
   "cell_type": "code",
   "execution_count": null,
   "id": "92b3d248",
   "metadata": {},
   "outputs": [],
   "source": [
    "#correlation matrix\n",
    "sns.heatmap(df.corr())"
   ]
  },
  {
   "cell_type": "code",
   "execution_count": null,
   "id": "e8959c47",
   "metadata": {},
   "outputs": [],
   "source": [
    "#Seperate the target/dependent variable(y) and features/independent variable(X) as follows\n",
    "X = df.drop('species', axis = 1)\n",
    "\n",
    "y = df['species']"
   ]
  },
  {
   "cell_type": "code",
   "execution_count": null,
   "id": "7d7ca286",
   "metadata": {},
   "outputs": [],
   "source": [
    "X,y"
   ]
  },
  {
   "cell_type": "code",
   "execution_count": null,
   "id": "27536a35",
   "metadata": {},
   "outputs": [],
   "source": [
    "from sklearn.preprocessing import LabelEncoder\n",
    "\n",
    "le = LabelEncoder()\n",
    "\n",
    "y = le.fit_transform(y)\n",
    "\n",
    "y"
   ]
  },
  {
   "cell_type": "code",
   "execution_count": null,
   "id": "997409c1",
   "metadata": {},
   "outputs": [],
   "source": [
    "#Splitting the data - 80:20 ratio\n",
    "from sklearn.model_selection import train_test_split"
   ]
  },
  {
   "cell_type": "code",
   "execution_count": null,
   "id": "7f10b7e0",
   "metadata": {},
   "outputs": [],
   "source": [
    "X_train, X_test, y_train, y_test = train_test_split(X, y, test_size=0.2, random_state=1)\n"
   ]
  },
  {
   "cell_type": "code",
   "execution_count": null,
   "id": "d2ae709e",
   "metadata": {},
   "outputs": [],
   "source": [
    "#Defining the decision tree algorithm. Building the model\n",
    "from sklearn.tree import DecisionTreeClassifier\n",
    "\n",
    "dtree = DecisionTreeClassifier()\n",
    "\n",
    "dtree.fit(X_train,y_train)\n",
    "\n",
    "print('Decision tree classifier created')\n",
    "\n",
    "y_pred = dtree.predict(X_test) "
   ]
  },
  {
   "cell_type": "code",
   "execution_count": null,
   "id": "79a4d402",
   "metadata": {},
   "outputs": [],
   "source": [
    "#Predicting the values of test data\n",
    "from sklearn.metrics import classification_report\n",
    "\n",
    "print('Classification report - \\n ', classification_report(y_test, y_pred))"
   ]
  },
  {
   "cell_type": "code",
   "execution_count": null,
   "id": "a4f83f9f",
   "metadata": {},
   "outputs": [],
   "source": [
    "from sklearn import tree\n",
    "\n",
    "fn = ['sepal length (cm)', 'sepal width (cm)', 'petal length (cm)', 'petal width (cm)']\n",
    "\n",
    "cn = ['setosa', 'versicolor', 'virginica']\n",
    "\n",
    "fig, axes = plt.subplots(nrows = 1, ncols = 1, figsize = (4,4), dpi = 300)\n",
    "\n",
    "tree.plot_tree(dtree, feature_names = fn, class_names = cn, filled = True);\n",
    "\n",
    "fig.savefig ('imagename.png')"
   ]
  },
  {
   "cell_type": "code",
   "execution_count": null,
   "id": "2eed8281",
   "metadata": {},
   "outputs": [],
   "source": [
    "# Gini impurity : predicts the likehood tha a randomly selected sample would be incorrectly classified by a specific node.\n",
    "#It is called Impurity metrics becos it shows how the model differs from a pure division.\n",
    "# Gini impurity ranges from 0 to 1. With 0 indicating that all of the elements belong to a single class and 1 indicating that\n",
    "#only one class exist. 0.5 indicates elements are uniformly distributed across the classes."
   ]
  },
  {
   "cell_type": "code",
   "execution_count": null,
   "id": "81231b0e",
   "metadata": {},
   "outputs": [],
   "source": []
  }
 ],
 "metadata": {
  "kernelspec": {
   "display_name": "Python 3 (ipykernel)",
   "language": "python",
   "name": "python3"
  },
  "language_info": {
   "codemirror_mode": {
    "name": "ipython",
    "version": 3
   },
   "file_extension": ".py",
   "mimetype": "text/x-python",
   "name": "python",
   "nbconvert_exporter": "python",
   "pygments_lexer": "ipython3",
   "version": "3.10.9"
  }
 },
 "nbformat": 4,
 "nbformat_minor": 5
}
